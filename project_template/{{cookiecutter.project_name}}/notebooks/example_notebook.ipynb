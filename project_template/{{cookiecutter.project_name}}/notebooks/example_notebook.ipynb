{
 "cells": [
  {
   "cell_type": "markdown",
   "metadata": {
    "jupyter": {
     "outputs_hidden": true
    }
   },
   "source": [
    "This is an example notebook"
   ]
  },
  {
   "cell_type": "markdown",
   "metadata": {},
   "source": [
    "you can use the pipelines by importing them directly"
   ]
  },
  {
   "cell_type": "code",
   "execution_count": null,
   "metadata": {},
   "outputs": [],
   "source": [
    "from {{cookiecutter.project_name}}.pipelines.download_iris import download_iris\n",
    "from {{cookiecutter.project_name}}.pipelines.train_iris import train_iris\n",
    "from {{cookiecutter.project_name}}.pipelines.pred_iris import pred_iris"
   ]
  },
  {
   "cell_type": "code",
   "execution_count": 2,
   "metadata": {},
   "outputs": [],
   "source": [
    "from chariots.core import saving, pipelines"
   ]
  },
  {
   "cell_type": "code",
   "execution_count": 3,
   "metadata": {},
   "outputs": [],
   "source": [
    "runner = pipelines.SequentialRunner()\n",
    "saver = saving.FileSaver(\"../{{cookiecutter.project_name}}_local\")\n",
    "store = pipelines.OpStore(saver)"
   ]
  },
  {
   "cell_type": "code",
   "execution_count": null,
   "metadata": {},
   "outputs": [],
   "source": [
    "download_iris.prepare(saver)\n",
    "train_iris.prepare(saver)\n",
    "pred_iris.prepare(saver)\n",
    "download_iris(runner)\n",
    "train_iris(runner)\n",
    "train_iris.save(store)\n",
    "pred_iris.load(store)\n",
    "pred_iris(runner, [[1, 2, 3, 4]])"
   ]
  },
  {
   "cell_type": "markdown",
   "metadata": {},
   "source": [
    "or you can use the chariots saver and avoid the preparing/runner/stores boilerplate,\n",
    "you can use\n",
    "```\n",
    "$ {{cookiecutter.project_name}} start\n",
    "```\n",
    "in the comand line and use the chariots client"
   ]
  },
  {
   "cell_type": "code",
   "execution_count": 4,
   "metadata": {},
   "outputs": [],
   "source": [
    "from chariots.backend.client import Client"
   ]
  },
  {
   "cell_type": "code",
   "execution_count": 5,
   "metadata": {},
   "outputs": [],
   "source": [
    "client = Client()"
   ]
  },
  {
   "cell_type": "code",
   "execution_count": null,
   "metadata": {},
   "outputs": [],
   "source": [
    "client.call_pipeline(download_iris)\n",
    "client.call_pipeline(train_iris)\n",
    "client.save_pipeline(train_iris)\n",
    "client.load_pipeline(pred_iris)\n",
    "client.call_pipeline(pred_iris,pipeline_input=[[1, 2, 3, 4]])"
   ]
  }
 ],
 "metadata": {
  "kernelspec": {
   "display_name": "Python 3",
   "language": "python",
   "name": "python3"
  },
  "language_info": {
   "codemirror_mode": {
    "name": "ipython",
    "version": 3
   },
   "file_extension": ".py",
   "mimetype": "text/x-python",
   "name": "python",
   "nbconvert_exporter": "python",
   "pygments_lexer": "ipython3",
   "version": "3.7.3"
  }
 },
 "nbformat": 4,
 "nbformat_minor": 4
}
